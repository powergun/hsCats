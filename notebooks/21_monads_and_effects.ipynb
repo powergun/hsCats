{
 "cells": [
  {
   "cell_type": "markdown",
   "metadata": {},
   "source": [
    "# Monads and Effects"
   ]
  },
  {
   "cell_type": "markdown",
   "metadata": {},
   "source": [
    "**why embellished functions are so important in functional programming**\n",
    "\n",
    "partiality: computations that may not terminate\n",
    "\n",
    "non-determinism: computations that may return many results\n",
    "\n",
    "side effects:\n",
    "- read-only state, or the environment\n",
    "- write-only state, or a log\n",
    "- read/write state\n",
    "\n",
    "exceptions: partial functions that may fail\n",
    "\n",
    "continuations: ability to save state of the program and then restore\n",
    "it on demand\n",
    "\n",
    "interactive input\n",
    "\n",
    "interactive output"
   ]
  },
  {
   "cell_type": "markdown",
   "metadata": {},
   "source": []
  },
  {
   "cell_type": "markdown",
   "metadata": {},
   "source": []
  },
  {
   "cell_type": "markdown",
   "metadata": {},
   "source": []
  },
  {
   "cell_type": "markdown",
   "metadata": {},
   "source": []
  },
  {
   "cell_type": "markdown",
   "metadata": {},
   "source": []
  },
  {
   "cell_type": "markdown",
   "metadata": {},
   "source": []
  },
  {
   "cell_type": "markdown",
   "metadata": {},
   "source": []
  }
 ],
 "metadata": {
  "kernelspec": {
   "display_name": "Haskell",
   "language": "haskell",
   "name": "haskell"
  },
  "language_info": {
   "codemirror_mode": "Haskell",
   "file_extension": ".hs",
   "mimetype": "text/x-haskell",
   "name": "haskell",
   "pygments_lexer": "Haskell",
   "version": "8.8.4"
  }
 },
 "nbformat": 4,
 "nbformat_minor": 4
}
