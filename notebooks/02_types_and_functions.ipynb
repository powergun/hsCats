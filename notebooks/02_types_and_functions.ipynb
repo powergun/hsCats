{
 "cells": [
  {
   "cell_type": "markdown",
   "metadata": {},
   "source": [
    "_L/13 types and programming_\n",
    "\n",
    "it is a common practice in Haskell to start a project by\n",
    "desigining the types.\n",
    "\n",
    "later type annotations drive the implementation and become\n",
    "compiler-enforced comments.\n",
    "\n",
    "_MY NOTE_\n",
    "\n",
    "I strongly second this. Even in CGI (that is still \n",
    "miserably dominated by C++) I can see the benefits of\n",
    "type-driven developement. I have tested this approach\n",
    "in `raytracerWk/exam1/take2`. It resulted in a much more\n",
    "clear implementation (comparing to Peter Shirley's\n",
    "original version)"
   ]
  },
  {
   "cell_type": "markdown",
   "metadata": {},
   "source": [
    "_L/14 what are types_\n",
    "\n",
    "a type is a **set** of values\n",
    "\n",
    "recall: $\\{\\}, \\ \\{x\\}, \\ \\{x, \\dots\\}$\n",
    "\n",
    "also think: $\n",
    "f :: S \\rightarrow S'\n",
    "\\\\\n",
    "identity :: S \\rightarrow S\n",
    "$\n"
   ]
  },
  {
   "cell_type": "markdown",
   "metadata": {},
   "source": [
    "_L/16 haskell's bottom value_\n",
    "\n",
    "but there are some calculations that involve recursion and those\n",
    "might never terminate\n",
    "\n",
    "we can not just ban non-terminating functions from haskell\n",
    "because distinguishing between terminating and non-terminating\n",
    "functions is undecidable\n",
    "\n",
    "that's why haskell has this $\\perp$ or bottom value, corresponding\n",
    "to a non-terminating computation\n",
    "\n",
    "so a function declared as `f :: Bool -> Bool` may return\n",
    "`True`, `False` or $\\perp$\n",
    "\n",
    "it is convenient to treat every runtime error as bottm, and even\n",
    "allow functions to return the bottom explicitly"
   ]
  },
  {
   "cell_type": "code",
   "execution_count": 3,
   "metadata": {},
   "outputs": [],
   "source": [
    "f1 :: Bool -> Bool\n",
    "f1 x = undefined\n",
    "\n",
    "-- bottom is also a member of type Bool -> Bool\n",
    "\n",
    "f2 :: Bool -> Bool\n",
    "f2 = undefined"
   ]
  },
  {
   "cell_type": "markdown",
   "metadata": {},
   "source": [
    "_L/17 partial_\n",
    "\n",
    "functions that may return bottom are called *partial*,\n",
    "as opposed to **total** functions, which return valid\n",
    "results for every possible argument"
   ]
  },
  {
   "cell_type": "markdown",
   "metadata": {},
   "source": [
    "_L/18 donotational programming_\n",
    "\n",
    "it is based on math\n",
    "\n",
    "every programming construct is given its mathematical \n",
    "interpreatation.\n",
    "\n",
    "with that if you want to prove a property of a program\n",
    "you just prove a mathematical theorem\n"
   ]
  },
  {
   "cell_type": "code",
   "execution_count": 5,
   "metadata": {},
   "outputs": [
    {
     "data": {
      "text/plain": [
       "\"[1,2,3]\""
      ]
     },
     "metadata": {},
     "output_type": "display_data"
    }
   ],
   "source": [
    "show [1..3]"
   ]
  },
  {
   "cell_type": "markdown",
   "metadata": {},
   "source": [
    "_L/19 computational effects_\n",
    "\n",
    "\"what is the mathematical model for reading a char from\n",
    "the keyboard or sending a packet across the network?\"\n",
    "\n",
    "it seemed like denotational semantics wasn't the best\n",
    "fit for important tasks that were essential for writing\n",
    "useful programs\n",
    "\n",
    "the breakthrough cam from category theory... discovered\n",
    "that **computational effect can be mapped to monads**"
   ]
  },
  {
   "cell_type": "markdown",
   "metadata": {},
   "source": [
    "_L/19 formal proofs of corretness_\n",
    "\n",
    "one of the important advantages of having a mathematical model\n",
    "for programming is that it is possible to perform formal\n",
    "proofs of correctness of software\n",
    "\n"
   ]
  },
  {
   "cell_type": "markdown",
   "metadata": {},
   "source": [
    "### the empty set: absurd"
   ]
  },
  {
   "cell_type": "code",
   "execution_count": 26,
   "metadata": {},
   "outputs": [],
   "source": [
    "import Data.Void\n",
    "\n",
    "fAbsurd :: Void -> Void\n",
    "fAbsurd = undefined\n",
    "\n",
    "-- absurd\n",
    "-- see:\n",
    "-- https://stackoverflow.com/questions/14131856/whats-the-absurd-function-in-data-void-useful-for"
   ]
  },
  {
   "cell_type": "markdown",
   "metadata": {},
   "source": [
    "### the singleton set: unit"
   ]
  },
  {
   "cell_type": "code",
   "execution_count": 10,
   "metadata": {},
   "outputs": [
    {
     "data": {
      "text/plain": [
       "44"
      ]
     },
     "metadata": {},
     "output_type": "display_data"
    }
   ],
   "source": [
    "f44 :: () -> Int\n",
    "f44 () = 44\n",
    "\n",
    "f44 ()"
   ]
  },
  {
   "cell_type": "code",
   "execution_count": 17,
   "metadata": {},
   "outputs": [
    {
     "data": {
      "text/plain": [
       "[(),(),()]"
      ]
     },
     "metadata": {},
     "output_type": "display_data"
    }
   ],
   "source": [
    "-- P/23 haskell lets you use the wildcard pattern, for\n",
    "-- an argument that is discarded\n",
    "\n",
    "fVoid :: a -> ()\n",
    "fVoid _ = ()\n",
    "\n",
    "-- notice that the impl doesn't depend on the value passed in;\n",
    "-- it doesn't even depend on the type of the arg\n",
    "\n",
    "-- parametrically polymorphic\n",
    "\n",
    "-- you can implement a whole family of such functions\n",
    "-- using a type parameter instead of a concrete type\n",
    "\n",
    "[fVoid 1, fVoid 'c', fVoid [1]]"
   ]
  },
  {
   "cell_type": "markdown",
   "metadata": {},
   "source": [
    "### the two element set: bool"
   ]
  },
  {
   "cell_type": "markdown",
   "metadata": {},
   "source": [
    "## Challenges 2.7\n",
    "\n"
   ]
  },
  {
   "cell_type": "markdown",
   "metadata": {},
   "source": [
    "6 draw a picture of category whose only objects are `Void`, `()`\n",
    "and `Bool`\n",
    "\n",
    "$\n",
    "Void \\rightarrow () \\\\\n",
    "Void \\rightarrow Bool \\\\\n",
    "Void \\rightarrow Void \\\\\n",
    "() \\rightarrow () \\\\\n",
    "() \\rightarrow Bool \\\\\n",
    "Bool \\rightarrow () \\\\\n",
    "Bool \\rightarrow Bool \\\\\n",
    "$"
   ]
  },
  {
   "cell_type": "code",
   "execution_count": null,
   "metadata": {},
   "outputs": [],
   "source": []
  }
 ],
 "metadata": {
  "kernelspec": {
   "display_name": "Haskell",
   "language": "haskell",
   "name": "haskell"
  },
  "language_info": {
   "codemirror_mode": "Haskell",
   "file_extension": ".hs",
   "mimetype": "text/x-haskell",
   "name": "haskell",
   "pygments_lexer": "Haskell",
   "version": "8.8.4"
  }
 },
 "nbformat": 4,
 "nbformat_minor": 4
}
