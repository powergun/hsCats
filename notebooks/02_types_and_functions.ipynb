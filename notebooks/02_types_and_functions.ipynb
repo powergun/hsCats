{
 "cells": [
  {
   "cell_type": "markdown",
   "metadata": {},
   "source": [
    "_L/13 types and programming_\n",
    "\n",
    "it is a common practice in Haskell to start a project by\n",
    "desigining the types.\n",
    "\n",
    "later type annotations drive the implementation and become\n",
    "compiler-enforced comments.\n",
    "\n",
    "_MY NOTE_\n",
    "\n",
    "I strongly second this. Even in CGI (that is still \n",
    "miserably dominated by C++) I can see the benefits of\n",
    "type-driven developement. I have tested this approach\n",
    "in `raytracerWk/exam1/take2`. It resulted in a much more\n",
    "clear implementation (comparing to Peter Shirley's\n",
    "original version)"
   ]
  },
  {
   "cell_type": "code",
   "execution_count": null,
   "metadata": {},
   "outputs": [],
   "source": [
    "L13"
   ]
  }
 ],
 "metadata": {
  "kernelspec": {
   "display_name": "Haskell",
   "language": "haskell",
   "name": "haskell"
  },
  "language_info": {
   "codemirror_mode": "Haskell",
   "file_extension": ".hs",
   "mimetype": "text/x-haskell",
   "name": "haskell",
   "pygments_lexer": "Haskell",
   "version": "8.8.4"
  }
 },
 "nbformat": 4,
 "nbformat_minor": 4
}
