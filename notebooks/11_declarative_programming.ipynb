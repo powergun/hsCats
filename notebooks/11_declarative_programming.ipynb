{
 "cells": [
  {
   "cell_type": "markdown",
   "metadata": {},
   "source": [
    "# Declarative Programming"
   ]
  },
  {
   "cell_type": "markdown",
   "metadata": {},
   "source": [
    "_P181 on imperative and declarative_\n",
    "\n",
    "there are two forms of expressing most laws of physics\n",
    "\n",
    "one uses local, or infinitesimal, considerations\n",
    "\n",
    "We look at the state of a system around a small neighborhood, and predict how it will evolve within the next instant of time.\n",
    "\n",
    "**this is usually expressed using differential equations that\n",
    "have to be integrated, or summed up, over a period of time.**\n",
    "\n",
    "the other approach is global\n",
    "\n",
    "we look at the initial and the final state of the system,\n",
    "and calculate a trajectory that connects them by minimizing\n",
    "a certain functional.\n",
    "\n"
   ]
  },
  {
   "cell_type": "markdown",
   "metadata": {},
   "source": []
  },
  {
   "cell_type": "markdown",
   "metadata": {},
   "source": []
  },
  {
   "cell_type": "markdown",
   "metadata": {},
   "source": []
  },
  {
   "cell_type": "markdown",
   "metadata": {},
   "source": []
  },
  {
   "cell_type": "markdown",
   "metadata": {},
   "source": []
  },
  {
   "cell_type": "markdown",
   "metadata": {},
   "source": []
  },
  {
   "cell_type": "markdown",
   "metadata": {},
   "source": []
  }
 ],
 "metadata": {
  "kernelspec": {
   "display_name": "Haskell",
   "language": "haskell",
   "name": "haskell"
  },
  "language_info": {
   "codemirror_mode": "Haskell",
   "file_extension": ".hs",
   "mimetype": "text/x-haskell",
   "name": "haskell",
   "pygments_lexer": "Haskell",
   "version": "8.8.4"
  }
 },
 "nbformat": 4,
 "nbformat_minor": 4
}
