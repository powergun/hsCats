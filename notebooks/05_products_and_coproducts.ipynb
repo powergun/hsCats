{
 "cells": [
  {
   "cell_type": "markdown",
   "metadata": {},
   "source": [
    "# Products and Coproducts"
   ]
  },
  {
   "cell_type": "markdown",
   "metadata": {},
   "source": [
    "if we want to single out a particular object in a category\n",
    "we can only do this by describing its pattern of relationships\n",
    "with other objects (and itself)\n",
    "\n",
    "these relationships are defined by morphisms"
   ]
  },
  {
   "cell_type": "markdown",
   "metadata": {},
   "source": [
    "_P/52 initial object and terminal object_\n",
    "\n",
    "**the initial object is the object that has one and only one\n",
    "morphism going to any object in the category**\n",
    "\n",
    "the **terminal object** is the object with one and only one morphism\n",
    "coming to it from any object in the category"
   ]
  },
  {
   "cell_type": "markdown",
   "metadata": {},
   "source": [
    "_P/55 opposite category_\n",
    "\n",
    "for any category $C$ we can define the opposite category $C^{op}$\n",
    "just by reversing all the arrows\n",
    "\n",
    "the opposite category automatically satisfies all the requirements\n",
    "of a category, as long as we simultaneously redefine composition"
   ]
  },
  {
   "cell_type": "markdown",
   "metadata": {},
   "source": [
    "**an isomorphism is an invertible morphism;**\n",
    "or a pair of morphisms, one being the inverse of the other"
   ]
  },
  {
   "cell_type": "markdown",
   "metadata": {},
   "source": [
    "_P/64 product_\n",
    "\n",
    "a product of two objects a and b is the object c\n",
    "equipped with two projections such that for any\n",
    "other object $c'$ equipped with two projections\n",
    "there is a unique morphism m from $c'$ to c that\n",
    "factorizes those projections"
   ]
  },
  {
   "cell_type": "markdown",
   "metadata": {},
   "source": [
    "_P/64 coproduct_\n",
    "\n",
    "the product has a dual, which is called the coproduct\n",
    "\n",
    "when we reverse the arrows in the product pattern, we \n",
    "end up with an object c equipped with two **injections**\n",
    "$i,j$, which are morphisms from a and b to c"
   ]
  },
  {
   "cell_type": "code",
   "execution_count": 4,
   "metadata": {},
   "outputs": [],
   "source": [
    "-- product in haskell\n",
    "data Contact = Phone Int | Address String\n",
    "\n",
    "-- coproduct in haskell (Either)\n",
    "data Coproduct a b = ELeft a | ERight b"
   ]
  },
  {
   "cell_type": "markdown",
   "metadata": {},
   "source": []
  }
 ],
 "metadata": {
  "kernelspec": {
   "display_name": "Haskell",
   "language": "haskell",
   "name": "haskell"
  },
  "language_info": {
   "codemirror_mode": "Haskell",
   "file_extension": ".hs",
   "mimetype": "text/x-haskell",
   "name": "haskell",
   "pygments_lexer": "Haskell",
   "version": "8.8.4"
  }
 },
 "nbformat": 4,
 "nbformat_minor": 4
}
