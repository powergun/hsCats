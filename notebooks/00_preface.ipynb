{
 "cells": [
  {
   "cell_type": "markdown",
   "metadata": {},
   "source": [
    "_L/xii structure and composable_\n",
    "\n",
    "category theory deals with structure\n",
    "\n",
    "it deals with the kind of structure that makes programs composable\n",
    "\n",
    "composition is at the very root of category theory,\n"
   ]
  },
  {
   "cell_type": "markdown",
   "metadata": {},
   "source": [
    "_L/xiii haskell and category theory_\n",
    "\n",
    "you need it as a language for sketching and documenting ideas to \n",
    "be implemented in C++\n"
   ]
  },
  {
   "cell_type": "markdown",
   "metadata": {},
   "source": []
  }
 ],
 "metadata": {
  "kernelspec": {
   "display_name": "Haskell",
   "language": "haskell",
   "name": "haskell"
  },
  "language_info": {
   "codemirror_mode": "Haskell",
   "file_extension": ".hs",
   "mimetype": "text/x-haskell",
   "name": "haskell",
   "pygments_lexer": "Haskell",
   "version": "8.8.4"
  }
 },
 "nbformat": 4,
 "nbformat_minor": 4
}
