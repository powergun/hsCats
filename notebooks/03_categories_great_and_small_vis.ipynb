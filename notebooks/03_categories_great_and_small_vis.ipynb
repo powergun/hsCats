{
 "cells": [
  {
   "cell_type": "code",
   "execution_count": 1,
   "id": "tender-constraint",
   "metadata": {},
   "outputs": [],
   "source": [
    "%load_ext tikzmagic"
   ]
  },
  {
   "cell_type": "code",
   "execution_count": 2,
   "id": "fiscal-reform",
   "metadata": {},
   "outputs": [
    {
     "data": {
      "image/svg+xml": [
       "<svg xmlns=\"http://www.w3.org/2000/svg\" xmlns:xlink=\"http://www.w3.org/1999/xlink\" width=\"400px\" height=\"240px\" viewBox=\"0 0 28.745 28.745\" version=\"1.1\">\n",
       "<g id=\"surface1\">\n",
       "<path style=\"fill:none;stroke-width:0.3985;stroke-linecap:butt;stroke-linejoin:miter;stroke:rgb(0%,0%,0%);stroke-opacity:1;stroke-miterlimit:10;\" d=\"M 0.00021875 -0.000875 L 0.00021875 28.346781 L 28.347875 28.346781 L 28.347875 -0.000875 Z M 0.00021875 -0.000875 \" transform=\"matrix(1,0,0,-1,0.199,28.546)\"/>\n",
       "</g>\n",
       "</svg>"
      ]
     },
     "metadata": {
      "isolated": "true"
     },
     "output_type": "display_data"
    }
   ],
   "source": [
    "%%tikz -f svg\n",
    "\\draw (0,0) rectangle (1,1);"
   ]
  },
  {
   "cell_type": "code",
   "execution_count": 5,
   "id": "center-placement",
   "metadata": {},
   "outputs": [
    {
     "name": "stdout",
     "output_type": "stream",
     "text": [
      "/tmp/tikzmagic/tikz.tex\n",
      "pdflatex --shell-escape tikz.tex\n"
     ]
    },
    {
     "data": {
      "image/svg+xml": [
       "<svg xmlns=\"http://www.w3.org/2000/svg\" xmlns:xlink=\"http://www.w3.org/1999/xlink\" width=\"400px\" height=\"240px\" viewBox=\"0 0 28.745 28.745\" version=\"1.1\">\n",
       "<g id=\"surface1\">\n",
       "<path style=\"fill:none;stroke-width:0.3985;stroke-linecap:butt;stroke-linejoin:miter;stroke:rgb(0%,0%,0%);stroke-opacity:1;stroke-miterlimit:10;\" d=\"M 0.00021875 -0.000875 L 0.00021875 28.346781 L 28.347875 28.346781 L 28.347875 -0.000875 Z M 0.00021875 -0.000875 \" transform=\"matrix(1,0,0,-1,0.199,28.546)\"/>\n",
       "<path style=\"fill-rule:nonzero;fill:rgb(0%,0%,0%);fill-opacity:1;stroke-width:0.3985;stroke-linecap:butt;stroke-linejoin:miter;stroke:rgb(0%,0%,0%);stroke-opacity:1;stroke-miterlimit:10;\" d=\"M 17.008031 14.174906 C 17.008031 15.737406 15.7385 17.006937 14.172094 17.006937 C 12.609594 17.006937 11.340063 15.737406 11.340063 14.174906 C 11.340063 12.6085 12.609594 11.338969 14.172094 11.338969 C 15.7385 11.338969 17.008031 12.6085 17.008031 14.174906 Z M 17.008031 14.174906 \" transform=\"matrix(1,0,0,-1,0.199,28.546)\"/>\n",
       "</g>\n",
       "</svg>"
      ]
     },
     "metadata": {
      "isolated": "true"
     },
     "output_type": "display_data"
    }
   ],
   "source": [
    "%%tikz -f svg\n",
    "\\draw (0,0) rectangle (1,1);\n",
    "\\filldraw (0.5,0.5) circle (.1);"
   ]
  },
  {
   "cell_type": "code",
   "execution_count": 7,
   "id": "sharing-leadership",
   "metadata": {},
   "outputs": [
    {
     "name": "stdout",
     "output_type": "stream",
     "text": [
      "/tmp/tikzmagic/tikz.tex\n",
      "pdflatex --shell-escape tikz.tex\n"
     ]
    },
    {
     "data": {
      "image/svg+xml": [
       "<svg xmlns=\"http://www.w3.org/2000/svg\" xmlns:xlink=\"http://www.w3.org/1999/xlink\" width=\"400px\" height=\"240px\" viewBox=\"0 0 57.091 57.091\" version=\"1.1\">\n",
       "<defs>\n",
       "<clipPath id=\"clip1\">\n",
       "  <path d=\"M 0 0 L 57.089844 0 L 57.089844 57.089844 L 0 57.089844 Z M 0 0 \"/>\n",
       "</clipPath>\n",
       "</defs>\n",
       "<g id=\"surface1\">\n",
       "<g clip-path=\"url(#clip1)\" clip-rule=\"nonzero\">\n",
       "<path style=\"fill:none;stroke-width:0.3985;stroke-linecap:butt;stroke-linejoin:miter;stroke:rgb(0%,0%,0%);stroke-opacity:1;stroke-miterlimit:10;\" d=\"M 0.00021875 0.001375 L 0.00021875 56.692781 L 56.695531 56.692781 L 56.695531 0.001375 Z M 0.00021875 0.001375 \" transform=\"matrix(1,0,0,-1,0.199,56.892)\"/>\n",
       "</g>\n",
       "<path style=\"fill-rule:nonzero;fill:rgb(0%,0%,0%);fill-opacity:1;stroke-width:0.3985;stroke-linecap:butt;stroke-linejoin:miter;stroke:rgb(0%,0%,0%);stroke-opacity:1;stroke-miterlimit:10;\" d=\"M 34.015844 28.345125 C 34.015844 31.477938 31.476781 34.017 28.347875 34.017 C 25.215062 34.017 22.676 31.477938 22.676 28.345125 C 22.676 25.216219 25.215062 22.677156 28.347875 22.677156 C 31.476781 22.677156 34.015844 25.216219 34.015844 28.345125 Z M 34.015844 28.345125 \" transform=\"matrix(1,0,0,-1,0.199,56.892)\"/>\n",
       "</g>\n",
       "</svg>"
      ]
     },
     "metadata": {
      "isolated": "true"
     },
     "output_type": "display_data"
    }
   ],
   "source": [
    "%%tikz --scale 2 -f svg\n",
    "\\draw (0,0) rectangle (1,1);\n",
    "\\filldraw (0.5,0.5) circle (.1);"
   ]
  },
  {
   "cell_type": "code",
   "execution_count": null,
   "id": "hispanic-connecticut",
   "metadata": {},
   "outputs": [],
   "source": []
  }
 ],
 "metadata": {
  "kernelspec": {
   "display_name": "hsCats:py (vis)",
   "language": "python",
   "name": "python3"
  },
  "language_info": {
   "codemirror_mode": {
    "name": "ipython",
    "version": 3
   },
   "file_extension": ".py",
   "mimetype": "text/x-python",
   "name": "python",
   "nbconvert_exporter": "python",
   "pygments_lexer": "ipython3",
   "version": "3.8.1"
  }
 },
 "nbformat": 4,
 "nbformat_minor": 5
}
