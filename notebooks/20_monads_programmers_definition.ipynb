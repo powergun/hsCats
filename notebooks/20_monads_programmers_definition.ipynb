{
 "cells": [
  {
   "cell_type": "markdown",
   "metadata": {},
   "source": [
    "# Monads: Programmer's Definition"
   ]
  },
  {
   "cell_type": "markdown",
   "metadata": {},
   "source": [
    "**it composes things**"
   ]
  },
  {
   "cell_type": "markdown",
   "metadata": {},
   "source": [
    "_P/292 a general definition of the Kleisli category_\n",
    "\n",
    "start with a category $C$ and an endofunctor $m$.\n",
    "\n",
    "the corresponding Kleisli category $K$ has the same objects as $C$,\n",
    "but its morphisms are different. \n",
    "\n",
    "A morphism between two objects\n",
    "$a, b$ in $K$ is implemented as a morphism $a \\rightarrow m \\ b$\n",
    "in the original category $C$\n",
    "\n",
    "**it is important to keep in mind that we treat a Kleisli arrow\n",
    "in $K$ as a morphism between $a, b$, not between $a, m \\ b$**\n",
    "\n",
    "```haskell\n",
    "f :: a -> m b\n",
    "--     ^^^^ is called `Kleisli arrow`\n",
    "\n",
    "-- there are many Kleisli arrows; in the case of writer monad, \n",
    "-- there are `return`, `tell` etc..\n",
    "```\n",
    "\n",
    "**in the example of writer monad, $m$ is specialized to\n",
    "$\\text{Writer} \\ w$,\n",
    "for some fixed monoid $w$**"
   ]
  },
  {
   "cell_type": "markdown",
   "metadata": {},
   "source": [
    "\n",
    "\n",
    "the standard composition laws for the Kleisli category\n",
    "\n",
    "```haskell\n",
    "(f >=> g) >=> h = f >=> (g >=> h) -- associativity\n",
    "return >=> f = f -- left unit \n",
    "f >=> return = f -- right unit\n",
    "```\n",
    "\n",
    "**this also expresses what a monad really is: it is a way of\n",
    "composing embellished functions. It is not about side effects\n",
    "or state. Embellished functions may be used to express\n",
    "a variety of effects or state, but that is not what the monad\n",
    "is for.**\n",
    "\n",
    "MY NOTE:\n",
    "\n",
    "recall Bryan Beckman's monad talk\n",
    "\n"
   ]
  },
  {
   "cell_type": "markdown",
   "metadata": {},
   "source": [
    "_P/295, 296 define fmap in terms of bind and join and vice versa_\n",
    "\n",
    "there are so far 3 ways of defining a monad:\n",
    "\n",
    "- kleisli operator \n",
    "- bind, return\n",
    "- bind in terms of fmap and join, return (requiring a to be a functor)\n",
    "\n",
    "for the first 2 ways, I can defined `fmap` in terms of the monadic\n",
    "operator (meaning $a$ is automatically a functor)"
   ]
  },
  {
   "cell_type": "markdown",
   "metadata": {},
   "source": []
  },
  {
   "cell_type": "markdown",
   "metadata": {},
   "source": []
  },
  {
   "cell_type": "markdown",
   "metadata": {},
   "source": []
  },
  {
   "cell_type": "markdown",
   "metadata": {},
   "source": []
  },
  {
   "cell_type": "markdown",
   "metadata": {},
   "source": []
  },
  {
   "cell_type": "markdown",
   "metadata": {},
   "source": []
  }
 ],
 "metadata": {
  "kernelspec": {
   "display_name": "Haskell",
   "language": "haskell",
   "name": "haskell"
  },
  "language_info": {
   "codemirror_mode": "Haskell",
   "file_extension": ".hs",
   "mimetype": "text/x-haskell",
   "name": "haskell",
   "pygments_lexer": "Haskell",
   "version": "8.8.4"
  }
 },
 "nbformat": 4,
 "nbformat_minor": 4
}
