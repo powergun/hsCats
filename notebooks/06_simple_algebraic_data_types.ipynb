{
 "cells": [
  {
   "cell_type": "markdown",
   "metadata": {},
   "source": [
    "_P/73 product type_\n",
    "\n",
    "**the canonical implementation of a product of 2 types is a pair**\n",
    "\n",
    "(recall the cartesian product of sets analogue)\n",
    "\n",
    "product type is **communitive up to isomorphism** - the `swap`\n",
    "function\n",
    "\n",
    "also the different ways of packaging/nesting pairs are isomorphic\n",
    "\n",
    "(comparing to monoid's associativity law)\n",
    "\n",
    "in the monoid case, the two ways of composing products were\n",
    "equal, whereas here **they are only equal up to isomorphism**"
   ]
  },
  {
   "cell_type": "markdown",
   "metadata": {},
   "source": [
    "`()` unit type is the **unit** of the product the same way\n",
    "`1` is the **unit** of multiplication.\n",
    "\n",
    "these observations can be formalized by saying that **Set**\n",
    "(the category of sets) is a **monoidal category**"
   ]
  },
  {
   "cell_type": "markdown",
   "metadata": {},
   "source": [
    "_P/79 sum type_\n",
    "\n",
    "Eithers are commutative up to isomorphism, can be nested \n",
    "and the nesting order is irrelevant up to isomorphism\n",
    "\n",
    "\n",
    "Set is also a symmetric monoidal category with respect\n",
    "to coproduct\n",
    "\n",
    "the role of the binary operation is played by the disjoint\n",
    "sum, **and the role of the unit element is played by the\n",
    "initial object.**\n",
    "\n",
    "`Void`, the uninhabited type, is the neutral element. You can\n",
    "think of `Either` as plus and `Void` as zero.\n",
    "\n",
    "Adding `Void` to a sum type does not change its content.\n",
    "\n",
    "`Either a Void` is isomorphic to `a` (there is no loss of information\n",
    "during morphism)"
   ]
  },
  {
   "cell_type": "markdown",
   "metadata": {},
   "source": [
    "_P/85 semi-ring_\n",
    "\n",
    "|numbers| types|\n",
    "|:------|:-----|\n",
    "|`0`    | `Void`|\n",
    "|`1`    | `()`|\n",
    "|`a + b` | `Either a b = Left a \\| Right b`|\n",
    "|`a x b` | `(a, b)` |\n",
    "|        | `Pair a b = Pair a b` |\n",
    "| `2 = 1 + 1` | `data Bool = True \\| False` |\n",
    "| `1 + a` | `data Maybe = Nothing \\| Just a` |"
   ]
  },
  {
   "cell_type": "markdown",
   "metadata": {},
   "source": [
    "_P/87 logic and (product, sum) types_\n",
    "\n",
    "| Logic        | Types           | \n",
    "|:------------- |:------------- |\n",
    "| `false`     | `Void` |\n",
    "| `true`     | `()`      | \n",
    "| `a \\|\\| b` | `Either a b = Left a \\| Right b`     |  \n",
    "| `a && b` | `(a, b)` |\n",
    "\n",
    "this is the basis of the Curry-Howard isomorphism between logic \n",
    "and type theory"
   ]
  },
  {
   "cell_type": "markdown",
   "metadata": {},
   "source": [
    "# Challenges\n"
   ]
  },
  {
   "cell_type": "code",
   "execution_count": 7,
   "metadata": {},
   "outputs": [
    {
     "data": {
      "text/plain": [
       "Left ()"
      ]
     },
     "metadata": {},
     "output_type": "display_data"
    },
    {
     "data": {
      "text/plain": [
       "Nothing"
      ]
     },
     "metadata": {},
     "output_type": "display_data"
    }
   ],
   "source": [
    "-- 1. show the isomorphism between Maybe a and Either () a\n",
    "\n",
    "mtoe :: Maybe a -> Either () a\n",
    "mtoe Nothing = Left ()\n",
    "mtoe (Just x) = Right x\n",
    "\n",
    "etom :: Either () a -> Maybe a\n",
    "etom (Left _) = Nothing\n",
    "etom (Right x) = Just x\n",
    "\n",
    "mtoe . etom $ Left ()\n",
    "etom . mtoe $ Nothing"
   ]
  },
  {
   "cell_type": "code",
   "execution_count": 9,
   "metadata": {},
   "outputs": [],
   "source": [
    "-- 2. here is a sum type\n",
    "\n",
    "data Shape \n",
    "    = Circle Float \n",
    "    | Rect Float Float\n",
    "    deriving (Eq, Show)\n",
    "    \n",
    "-- when we want to define function like `area` that acts on a\n",
    "-- Shape, we do it by pattern matching\n",
    "\n",
    "-- note, c++17 supports generic lambda that can be used as\n",
    "-- ad-hoc pattern matching; see also Mach-7 \n",
    "-- https://github.com/solodon4/Mach7\n",
    "\n",
    "-- cxxFP:\n",
    "-- https://github.com/powergun/cxxFP/blob/master/types/sum_type/variant_pattern_matching.cpp"
   ]
  },
  {
   "cell_type": "code",
   "execution_count": 10,
   "metadata": {},
   "outputs": [],
   "source": [
    "-- 3. continuing with the prev example, we can easily add\n",
    "-- a new function circ "
   ]
  },
  {
   "cell_type": "code",
   "execution_count": 25,
   "metadata": {},
   "outputs": [
    {
     "data": {
      "text/plain": [
       "LHS 12"
      ]
     },
     "metadata": {},
     "output_type": "display_data"
    },
    {
     "data": {
      "text/plain": [
       "BoolMult True 12"
      ]
     },
     "metadata": {},
     "output_type": "display_data"
    }
   ],
   "source": [
    "-- 5. show that a + a = 2 x a holds for types (up to isomorphism)\n",
    "-- Remember that 2 corresponds to Bool, according to the translation\n",
    "\n",
    "-- a + a\n",
    "data Plus a = LHS a\n",
    "            | RHS a\n",
    "            deriving (Eq, Show)\n",
    "\n",
    "-- 2\n",
    "data Bool = True\n",
    "          | False\n",
    "          deriving (Eq, Show)\n",
    "\n",
    "-- 2 x a \n",
    "data BoolMult a = BoolMult Bool a\n",
    "                deriving (Eq, Show)\n",
    "\n",
    "-- the isomorphism\n",
    "\n",
    "to :: Plus a -> BoolMult a\n",
    "to (LHS x) = BoolMult True x\n",
    "to (RHS x) = BoolMult False x\n",
    "\n",
    "fro :: BoolMult a -> Plus a\n",
    "fro (BoolMult True x) = LHS x\n",
    "fro (BoolMult False x) = RHS x\n",
    "\n",
    "fro . to $ LHS 12\n",
    "\n",
    "to . fro $ BoolMult True 12"
   ]
  },
  {
   "cell_type": "code",
   "execution_count": null,
   "metadata": {},
   "outputs": [],
   "source": []
  }
 ],
 "metadata": {
  "kernelspec": {
   "display_name": "Haskell",
   "language": "haskell",
   "name": "haskell"
  },
  "language_info": {
   "codemirror_mode": "Haskell",
   "file_extension": ".hs",
   "mimetype": "text/x-haskell",
   "name": "haskell",
   "pygments_lexer": "Haskell",
   "version": "8.8.4"
  }
 },
 "nbformat": 4,
 "nbformat_minor": 4
}
