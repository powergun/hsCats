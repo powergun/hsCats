{
 "cells": [
  {
   "cell_type": "markdown",
   "metadata": {},
   "source": [
    "_P/74 isomorphism_\n",
    "\n",
    "if you want to combine three types in a product $a, b, c$ \n",
    "in this order, you can do it in two ways:\n",
    "\n",
    "```text\n",
    "((a, b), c)\n",
    "or\n",
    "(a, (b, c))\n",
    "```\n",
    "\n",
    "these types are different but their elements are in one-to-one\n",
    "correspondence.\n",
    "\n",
    "there is a function that maps one to another\n",
    "\n",
    "```\n",
    "alpha :: ((a, b), c) -> (a, (b, c))\n",
    "-- pattern matching\n",
    "\n",
    "alpha_inv :: (a, (b, c)) -> ((a, b), c)\n",
    "-- pattern matching\n",
    "```\n",
    "\n",
    "so it is an isomorphism\n"
   ]
  },
  {
   "cell_type": "code",
   "execution_count": null,
   "metadata": {},
   "outputs": [],
   "source": []
  }
 ],
 "metadata": {
  "kernelspec": {
   "display_name": "Haskell",
   "language": "haskell",
   "name": "haskell"
  },
  "language_info": {
   "codemirror_mode": "Haskell",
   "file_extension": ".hs",
   "mimetype": "text/x-haskell",
   "name": "haskell",
   "pygments_lexer": "Haskell",
   "version": "8.8.4"
  }
 },
 "nbformat": 4,
 "nbformat_minor": 4
}
