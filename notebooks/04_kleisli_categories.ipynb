{
 "cells": [
  {
   "cell_type": "markdown",
   "metadata": {},
   "source": [
    "# Kleisli Categories"
   ]
  },
  {
   "cell_type": "markdown",
   "metadata": {},
   "source": [
    "_P/42 Writer<T> c++ template_\n",
    "\n",
    "we have accomplished our goal: the aggregation of the log\n",
    "is no longer the concern of the individual functions\n",
    "\n",
    "they produce their own messages, which are then, externally\n",
    "concatenated into a larger log\n",
    "\n",
    "we have to **abstract function composition**\n",
    "   \n",
    "   "
   ]
  },
  {
   "cell_type": "markdown",
   "metadata": {},
   "source": [
    "## The Writer Category"
   ]
  },
  {
   "cell_type": "markdown",
   "metadata": {},
   "source": [
    "MY NOTE:\n",
    "\n",
    "what are in the writer category? a bunch of objects called \"Writers\" and their morphisms:\n",
    "\n",
    "$Writer \\rightarrow Writer'$\n",
    "\n"
   ]
  },
  {
   "cell_type": "markdown",
   "metadata": {},
   "source": [
    "_P/45 composing Writer<T> template: a category point of view_\n",
    "    \n",
    "what is the identity morphism (in the Writer category) ?\n",
    "    \n",
    "an identity morphism (in the case of `Writer<T>`) should\n",
    "pass its argument without change, and only contribute an\n",
    "empty string to the log"
   ]
  },
  {
   "cell_type": "markdown",
   "metadata": {},
   "source": [
    "**the only requirement is that the `log` type have monoidal\n",
    "properties**"
   ]
  },
  {
   "cell_type": "code",
   "execution_count": 34,
   "metadata": {},
   "outputs": [
    {
     "data": {
      "text/plain": [
       "\"called identity morphism\"\n",
       "\"called add with n\"\n",
       "\"called isEven\"\n",
       "\"---------------------------------------\"\n",
       "\"called identity morphism\"\n",
       "\"called upCase\"\n",
       "\"called toWords\"\n",
       "\"---------------------------------------\"\n",
       "\"called identity morphism\"\n",
       "\"telling something\"\n",
       "\"called upCase\""
      ]
     },
     "metadata": {},
     "output_type": "display_data"
    }
   ],
   "source": [
    "import Control.Monad\n",
    "import Data.Char\n",
    "import Data.String\n",
    "\n",
    "-- the object\n",
    "type Writer a = (a, String)\n",
    "\n",
    "-- the morphism\n",
    "f :: a -> Writer b\n",
    "f = undefined\n",
    "\n",
    "-- the new compose operator, the \"fish\" operator\n",
    "(>=>) :: (a -> Writer b) -> (b -> Writer c) -> (a -> Writer c)\n",
    "m1 >=> m2 = \\x -> let (o1, state1) = m1 x\n",
    "                      (o2, state2) = m2 o1\n",
    "                  in (o2, state1 <> state2)\n",
    "\n",
    "(>>=) :: Writer a -> (a -> Writer b) -> Writer b\n",
    "(x1, s1) >>= f = let (x2, s2) = f x1\n",
    "                 in (x2, s1 ++ s2)\n",
    "\n",
    "return :: a -> Writer a\n",
    "return x = (x, \"called identity morphism\\n\")\n",
    "\n",
    "-- chapter 20 formally introduce the `Kleisli arrow`\n",
    "tell :: String -> Writer ()\n",
    "tell s = ((), s)\n",
    "\n",
    "add :: Int -> Int -> Writer Int\n",
    "add n x = (n + x, \"called add with n\\n\")\n",
    "\n",
    "isEven :: Int -> Writer Bool\n",
    "isEven x = (even x, \"called isEven\\n\")\n",
    "\n",
    "upCase :: String -> Writer String\n",
    "upCase s = (fmap toUpper s, \"called upCase\\n\")\n",
    "\n",
    "toWords :: String -> Writer [String]\n",
    "toWords s = (words s, \"called toWords\\n\")\n",
    "\n",
    "runTests :: IO ()\n",
    "runTests = do\n",
    "    let f = return >=> add 10 >=> isEven\n",
    "    let (_, log1) = f 1\n",
    "    mapM_ print $ lines log1\n",
    "    \n",
    "    print \"---------------------------------------\"\n",
    "    \n",
    "    let g = return >=> upCase >=> toWords\n",
    "    let (_, log2) = g \"iddqd idkfa idnoclip\"\n",
    "    mapM_ print $ lines log2\n",
    "    \n",
    "    print \"---------------------------------------\"\n",
    "    \n",
    "    let t = return \n",
    "         >=> (\\x -> tell \"telling something\\n\" >>= const (upCase x))\n",
    "    let (_, log3) = t \"test tell\"\n",
    "    mapM_ print $ lines log3\n",
    "runTests"
   ]
  },
  {
   "cell_type": "markdown",
   "metadata": {},
   "source": [
    "_P/49 what is a Kleisli category_\n",
    "\n",
    "a Kleisli category has, as objects, **the types of the underlying\n",
    "programming language**\n",
    "\n",
    "morphisms from type $A$ to type $B$ are fujnctions that go\n",
    "from $A$ to a type derived from $B$ using the particular\n",
    "embellishment\n",
    "\n",
    "each Kleisli category defines its own way of composing such\n",
    "morphisms, as well as the identity morphisms with respect\n",
    "to that composition\n",
    "\n",
    "a category where morphisms are represented by embellished \n",
    "functions, and their composition does more than just pass\n",
    "the output of one function to the input of another\n",
    "\n",
    "**we have more degree of freedom to play with: the composition\n",
    "itself**"
   ]
  },
  {
   "cell_type": "markdown",
   "metadata": {},
   "source": [
    "## Challenge"
   ]
  },
  {
   "cell_type": "code",
   "execution_count": 32,
   "metadata": {},
   "outputs": [
    {
     "data": {
      "text/plain": [
       "Value 0.2874798\n",
       "Nothing"
      ]
     },
     "metadata": {},
     "output_type": "display_data"
    }
   ],
   "source": [
    "data Optional a\n",
    "  = Value a\n",
    "  | Nothing\n",
    "  deriving (Eq, Show)\n",
    "  \n",
    "(>=>) :: (a -> Optional b) -> (b -> Optional c) -> (a -> Optional c)\n",
    "(>=>) fa fb x = case fa x of\n",
    "                    Value oa -> fb oa\n",
    "                    Nothing -> Nothing\n",
    "                        \n",
    "safeReciprocal :: Float -> Optional Float\n",
    "safeReciprocal x = if x >= 0 then Value $ sqrt x else Nothing\n",
    "\n",
    "safeRoot :: Float -> Optional Float\n",
    "safeRoot x = if x /= 0 then Value $ 1 / x else Nothing\n",
    "\n",
    "runTests :: IO ()\n",
    "runTests = do\n",
    "    let f = safeReciprocal >=> safeRoot\n",
    "        good = f 12.1\n",
    "        bad = f 0.0\n",
    "    print good\n",
    "    print bad\n",
    "\n",
    "runTests"
   ]
  },
  {
   "cell_type": "code",
   "execution_count": null,
   "metadata": {},
   "outputs": [],
   "source": []
  }
 ],
 "metadata": {
  "kernelspec": {
   "display_name": "Haskell",
   "language": "haskell",
   "name": "haskell"
  },
  "language_info": {
   "codemirror_mode": "Haskell",
   "file_extension": ".hs",
   "mimetype": "text/x-haskell",
   "name": "haskell",
   "pygments_lexer": "Haskell",
   "version": "8.8.4"
  }
 },
 "nbformat": 4,
 "nbformat_minor": 4
}
