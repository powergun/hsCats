{
 "cells": [
  {
   "cell_type": "markdown",
   "metadata": {},
   "source": [
    "# Kleisli Categories"
   ]
  },
  {
   "cell_type": "markdown",
   "metadata": {},
   "source": [
    "_P/42 Writer<T> c++ template_\n",
    "\n",
    "we have accomplished our goal: the aggregation of the log\n",
    "is no longer the concern of the individual functions\n",
    "\n",
    "they produce their own messages, which are then, externally\n",
    "concatenated into a larger log\n",
    "\n",
    "we have to **abstract function composition**\n",
    "   \n",
    "   "
   ]
  },
  {
   "cell_type": "markdown",
   "metadata": {},
   "source": [
    "## The Writer Category"
   ]
  },
  {
   "cell_type": "markdown",
   "metadata": {},
   "source": [
    "MY NOTE:\n",
    "\n",
    "what are in the writer category? a bunch of objects called \"Writers\" and their morphisms:\n",
    "\n",
    "$Writer \\rightarrow Writer'$\n",
    "\n"
   ]
  },
  {
   "cell_type": "markdown",
   "metadata": {},
   "source": [
    "_P/45 composing Writer<T> template: a category point of view_\n",
    "    \n",
    "what is the identity morphism (in the Writer category) ?\n",
    "    \n",
    "an identity morphism (in the case of `Writer<T>`) should\n",
    "pass its argument without change, and only contribute an\n",
    "empty string to the log"
   ]
  },
  {
   "cell_type": "markdown",
   "metadata": {},
   "source": [
    "**the only requirement is that the `log` type have monoidal\n",
    "properties**"
   ]
  },
  {
   "cell_type": "code",
   "execution_count": 41,
   "metadata": {},
   "outputs": [
    {
     "data": {
      "text/plain": [
       "\"called identity morphism\"\n",
       "\"called add with n\"\n",
       "\"called isEven\""
      ]
     },
     "metadata": {},
     "output_type": "display_data"
    }
   ],
   "source": [
    "import Control.Monad\n",
    "\n",
    "-- the object\n",
    "type Writer a = (a, String)\n",
    "\n",
    "-- the morphism\n",
    "f :: a -> Writer b\n",
    "f = undefined\n",
    "\n",
    "-- the new compose operator, the \"fish\" operator\n",
    "(>=>) :: (a -> Writer b) -> (b -> Writer c) -> (a -> Writer c)\n",
    "m1 >=> m2 = \\x -> let (o1, state1) = m1 x\n",
    "                      (o2, state2) = m2 o1\n",
    "                  in (o2, state1 <> state2)\n",
    "\n",
    "ident :: Int -> Writer Int\n",
    "ident x = (x, \"called identity morphism\\n\")\n",
    "\n",
    "add :: Int -> Int -> Writer Int\n",
    "add n x = (n + x, \"called add with n\\n\")\n",
    "\n",
    "isEven :: Int -> Writer Bool\n",
    "isEven x = (even x, \"called isEven\\n\")\n",
    "\n",
    "runTests :: IO ()\n",
    "runTests = do\n",
    "    let f = ident >=> add 10 >=> isEven\n",
    "    let (o, log) = f 1\n",
    "    mapM_ print $ lines log\n",
    "    \n",
    "runTests"
   ]
  },
  {
   "cell_type": "markdown",
   "metadata": {},
   "source": []
  },
  {
   "cell_type": "markdown",
   "metadata": {},
   "source": []
  },
  {
   "cell_type": "markdown",
   "metadata": {},
   "source": []
  }
 ],
 "metadata": {
  "kernelspec": {
   "display_name": "Haskell",
   "language": "haskell",
   "name": "haskell"
  },
  "language_info": {
   "codemirror_mode": "Haskell",
   "file_extension": ".hs",
   "mimetype": "text/x-haskell",
   "name": "haskell",
   "pygments_lexer": "Haskell",
   "version": "8.8.4"
  }
 },
 "nbformat": 4,
 "nbformat_minor": 4
}
