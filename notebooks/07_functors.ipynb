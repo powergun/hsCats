{
 "cells": [
  {
   "cell_type": "markdown",
   "metadata": {},
   "source": [
    "_P/89 what is functor_\n",
    "\n",
    "**a functor is a mapping between categories**\n",
    "\n",
    "if $a$ is an object in $C$, we will write its image in $D$ as $Fa$\n",
    "\n",
    "**a functor also maps morphisms - it's a function on morphisms**\n",
    "\n",
    "it preserves connections:\n",
    "\n",
    "if a morphism $f \\ \\text{in} \\ C$ connects object $a$ to object $b$\n",
    "\n",
    "$f :: a \\rightarrow b$\n",
    "\n",
    "the image of $f$ in $D$, $Ff$ will connect the image of $a$\n",
    "to the image of $b$\n",
    "\n",
    "$Ff :: Fa \\rightarrow Fb$\n",
    "\n",
    "**a functor preserves the structure of a category: what is connected\n",
    "in one category will be connected in the other category**\n",
    "\n",
    "MY NOTE: \n",
    "\n",
    "recall that, _haskell from the first principle_ book\n",
    "also repeatedly mentions this concept.\n",
    "\n",
    "**functor also preserves the composition**\n",
    "\n",
    "$h = g \\cdot f\\\\\n",
    "Fh = Fg \\cdot Ff$\n",
    "\n",
    "**all the identity morphisms in $C$ are mapped to\n",
    "identity morphisms in $D$**\n",
    "\n",
    "$Fid_{a} = id_{Fa}$\n",
    "\n",
    "$id_{Fa}$ is the identity at $Fa$"
   ]
  },
  {
   "cell_type": "markdown",
   "metadata": {},
   "source": [
    "_P/91 \"functors are continuous\"_\n",
    "\n",
    "functors must preserve the structure of a category\n",
    "\n",
    "**if you picture a category as a collection of objects held\n",
    "together by a network of morphisms, a functor is not\n",
    "allowed to introduce any tears into this fabric**\n",
    "\n",
    "this no-tearing constraint is similar to the\n",
    "continuity condition from calculus. In this\n",
    "sense functors are continuous\n"
   ]
  },
  {
   "cell_type": "markdown",
   "metadata": {},
   "source": [
    "_P/91 functors may do embedding or collapsing_\n",
    "\n",
    "embedding (selecting elems): \n",
    "\n",
    "in the extreme, the source can be the trivial singleton\n",
    "category - a category with one object and one morphism,\n",
    "the identity. \n",
    "\n",
    "a functor from the singleton category to any other\n",
    "category simply selects an object in that (target) category\n",
    "\n",
    "(analogous to the property of morphisms from \n",
    "singleton sets selecting elements in target sets)\n",
    "\n",
    "collapsing (black hole):\n",
    "\n",
    "the constant functor $\\Delta_{c}$. It maps every object\n",
    "in the source cat to one selected object $c$ in the\n",
    "target cat. It also maps every morphism to identity morphism\n",
    "$id_{c}$"
   ]
  },
  {
   "cell_type": "markdown",
   "metadata": {},
   "source": [
    "_P/92 endofunctors_"
   ]
  },
  {
   "cell_type": "markdown",
   "metadata": {},
   "source": [
    "> The prefix (end- or endo-) means within\n",
    "\n",
    "functors that map this category into itself\n",
    "\n",
    "example: the `Maybe` functor\n",
    "\n",
    "we often say that `fmap` **lifts a function** (over some...)\n",
    "\n",
    "**the type ctor `Maybe` together with the function `fmap`\n",
    "form a functor** (see the further explanation below)"
   ]
  },
  {
   "cell_type": "markdown",
   "metadata": {},
   "source": [
    "_P/99 typeclasses_\n",
    "\n",
    "**typeclass defines a family of types that support\n",
    "a common interface**\n",
    "\n",
    "**typeclasses are Haskell's only mechanism for overloading\n",
    "functions (and operators)**\n"
   ]
  },
  {
   "cell_type": "markdown",
   "metadata": {},
   "source": [
    "**a functor is not defined as a type but as a mapping\n",
    "of types, a type ctor**\n",
    "\n",
    "**we need a typeclass that is not a family of types, as was\n",
    "the case with `Eq`, but a family of type constructors**\n",
    "\n",
    "fortunately, haskell typeclass works with type ctor\n",
    "as well as with types\n",
    "\n",
    "```haskell\n",
    "class Functor f where\n",
    "    fmap :: (a -> b) -> f a -> f b\n",
    "```\n",
    "\n",
    "`f` being the type ctor: it takes `a` and produces `f a`"
   ]
  },
  {
   "cell_type": "markdown",
   "metadata": {},
   "source": [
    "accordingly, when declaring an instance of `Functor`,\n",
    "you have to give it a type constructor, as is the case \n",
    "with Maybe:\n",
    "\n",
    "```haskell\n",
    "instance Functor Maybe where\n",
    "    fmap _ ...\n",
    "```"
   ]
  },
  {
   "cell_type": "markdown",
   "metadata": {},
   "source": [
    "_P/102 functor, type parameter and generic container_\n",
    "\n",
    "**any type is parameterized by another type (i.e. produced\n",
    "by a type-ctor) is a candidate for a functor** - the generic\n",
    "containers (STL in c++)\n",
    "\n",
    "MY NOTE:\n",
    "\n",
    "and it is easier to see the \"structure-preservation\" property\n",
    "of functor from these generic containers, however **functor is NOT\n",
    "just about container**"
   ]
  },
  {
   "cell_type": "markdown",
   "metadata": {},
   "source": [
    "_P/104 the reader functor_\n",
    "\n",
    "```haskell\n",
    "fmap :: (a -> b) -> (r -> a) -> (r -> b)\n",
    "```\n",
    "\n",
    "MY NOTE:\n",
    "\n",
    "the `r ->` bit reminds me `f a` in the previous example - both\n",
    "`r ->` (also written as `(->) r`) and `f` are the structure to be preserved.\n",
    "\n",
    "```haskell\n",
    "instance Functor ((->) r) where\n",
    "    fmap f g = f . g\n",
    "    \n",
    "    -- simplified to\n",
    "    -- fmap = (.)\n",
    "```\n",
    "this combination of the type ctor `(->) r` with the above impl of \n",
    "`fmap` is called the **reader functor**"
   ]
  },
  {
   "cell_type": "markdown",
   "metadata": {},
   "source": [
    "_P/106 List/Container as Function and Function as Table_\n",
    "\n",
    "\n",
    "haskell effectively blurs the distinction between data and code\n",
    "\n",
    "**a list could be considered a function, and a function\n",
    "could be considered a table that maps arguments to results**\n",
    "\n",
    "\n",
    "(on functor object)\n",
    "\n",
    "**an example is a Haskell `IO` object, which may contain\n",
    "user input or the future versions of our universe with \"hello\n",
    "world\" displayed on the monitor**\n",
    "\n",
    "according to this interpretation, a functor object is \n",
    "something that **may contain a value (or values)** of the\n",
    "type it's parameterized upon;\n",
    "\n",
    "we are **not concerned about being able to access the values** -\n",
    "that's totally optional, and outside of the scope of\n",
    "the functor\n",
    "\n",
    "all we are interested in is to be able to **manipulate\n",
    "those values** using functions.\n"
   ]
  },
  {
   "cell_type": "code",
   "execution_count": 10,
   "metadata": {},
   "outputs": [
    {
     "data": {
      "text/plain": [
       "Const 1"
      ]
     },
     "metadata": {},
     "output_type": "display_data"
    }
   ],
   "source": [
    "-- the endofunctor case of a black hole \n",
    "\n",
    "newtype Const c a = Const c\n",
    "                  deriving (Show)\n",
    "                  \n",
    "instance Functor (Const c) where\n",
    "    fmap _ (Const v) = Const v\n",
    "\n",
    "v1 :: Const Int Int\n",
    "v1 = Const 1\n",
    "\n",
    "v2 :: Const Int String\n",
    "v2 = fmap show v1\n",
    "\n",
    "v2\n"
   ]
  },
  {
   "cell_type": "markdown",
   "metadata": {},
   "source": [
    "_P/111 the category of functors_\n",
    "\n",
    "there is a category of all small categories called $Cat$,\n",
    "which is big, so it can not be a member of itself;\n",
    "\n",
    "a small category is one in which objects form a set, as\n",
    "opposed to something larger than a set.\n",
    "\n",
    "an infinite set is considered small"
   ]
  },
  {
   "cell_type": "markdown",
   "metadata": {},
   "source": [
    "# Challenges"
   ]
  },
  {
   "cell_type": "code",
   "execution_count": 28,
   "metadata": {},
   "outputs": [],
   "source": [
    "-- 1. can we turn the Maybe type ctor into a functor by\n",
    "-- defining\n",
    "\n",
    "-- fmap _ _ = Nothing\n",
    "-- which ignores both of its arguments?\n",
    "\n",
    "-- no,\n",
    "\n",
    "-- it'd break the fmap composition law\n",
    "-- fmap (f . g) = fmap f . fmap g\n",
    "\n"
   ]
  },
  {
   "cell_type": "code",
   "execution_count": 36,
   "metadata": {},
   "outputs": [
    {
     "data": {
      "text/plain": [
       "2"
      ]
     },
     "metadata": {},
     "output_type": "display_data"
    },
    {
     "data": {
      "text/plain": [
       "Just 5"
      ]
     },
     "metadata": {},
     "output_type": "display_data"
    },
    {
     "data": {
      "text/plain": [
       "Just 5"
      ]
     },
     "metadata": {},
     "output_type": "display_data"
    }
   ],
   "source": [
    "-- 2. provide functor laws for the reader functor\n",
    "\n",
    "-- fmap id = id \n",
    "\n",
    "id' = fmap id (+ 1)\n",
    "id' 1  -- (+ 1) 1\n",
    "\n",
    "{-\n",
    "\n",
    "fmap id f \n",
    "f :: r -> a\n",
    "id :: a -> a\n",
    "\n",
    "therefore\n",
    "fmap id f :: a -> a\n",
    "\n",
    "-}\n",
    "\n",
    "-- fmap (f . g) = fmap f . fmap g\n",
    "\n",
    "import Data.String\n",
    "ls = fmap (length . show)\n",
    "ls $ Just 12312\n",
    "\n",
    "fmap length . fmap show $ Just 12312\n",
    "\n",
    "{-\n",
    "p :: a -> b\n",
    "q :: b -> c\n",
    "\n",
    "f :: r -> a\n",
    "\n",
    "p . q :: a -> c\n",
    "let t = p . q\n",
    "\n",
    "fmap t f :: r -> c\n",
    "\n",
    "let f' = fmap g f\n",
    "f' is fmap g f :: r -> b\n",
    "\n",
    "fmap g f' :: r -> c\n",
    "-}"
   ]
  },
  {
   "cell_type": "code",
   "execution_count": 57,
   "metadata": {},
   "outputs": [],
   "source": [
    "{-# LANGUAGE FlexibleContexts #-}\n",
    "\n",
    "-- 4. prove the functor laws for the list functor\n",
    "--  assume the laws are true for the tail part of the list\n",
    "\n",
    "-- let l be either x : xs or []\n",
    "-- (:) :: a -> [a] -> [a]\n",
    "\n",
    "-- I have the following two conditions:\n",
    "-- fmap f []\n",
    "-- fmap f (x : xs)\n",
    "\n",
    "-- because fmap f [] = [], the laws are true when the list is empty\n",
    "\n",
    "-- fmap f (x : xs) = f x : fmap f xs\n",
    "-- since the laws for the `xs` part are true, and the shape\n",
    "-- of the tail can be:\n",
    "-- an empty list\n",
    "-- x : []\n",
    "-- a singleton list\n",
    "-- x : (y : [])\n",
    "-- list with 2, 3, 4 ...n elements\n",
    "-- x : (y : z : [])\n",
    "-- ...\n",
    "-- therefore the laws are also true for singleton list, list with\n",
    "-- 2, 3, ... n elements\n"
   ]
  },
  {
   "cell_type": "code",
   "execution_count": null,
   "metadata": {},
   "outputs": [],
   "source": []
  }
 ],
 "metadata": {
  "kernelspec": {
   "display_name": "Haskell",
   "language": "haskell",
   "name": "haskell"
  },
  "language_info": {
   "codemirror_mode": "Haskell",
   "file_extension": ".hs",
   "mimetype": "text/x-haskell",
   "name": "haskell",
   "pygments_lexer": "Haskell",
   "version": "8.8.4"
  }
 },
 "nbformat": 4,
 "nbformat_minor": 4
}
