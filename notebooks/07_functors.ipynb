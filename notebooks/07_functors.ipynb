{
 "cells": [
  {
   "cell_type": "markdown",
   "metadata": {},
   "source": [
    "_P/89 what is functor_\n",
    "\n",
    "**a functor is a mapping between categories**\n",
    "\n",
    "if $a$ is an object in $C$, we will write its image in $D$ as $Fa$\n",
    "\n",
    "**a functor also maps morphisms - it's a function on morphisms**\n",
    "\n",
    "it preserves connections:\n",
    "\n",
    "if a morphism $f \\ \\text{in} \\ C$ connects object $a$ to object $b$\n",
    "\n",
    "$f :: a \\rightarrow b$\n",
    "\n",
    "the image of $f$ in $D$, $Ff$ will connect the image of $a$\n",
    "to the image of $b$\n",
    "\n",
    "$Ff :: Fa \\rightarrow Fb$\n",
    "\n",
    "**a functor preserves the structure of a category: what is connected\n",
    "in one category will be connected in the other category**\n",
    "\n",
    "MY NOTE: \n",
    "\n",
    "recall that, _haskell from the first principle_ book\n",
    "also repeatedly mentions this concept.\n",
    "\n",
    "**functor also preserves the composition**\n",
    "\n",
    "$h = g \\cdot f\\\\\n",
    "Fh = Fg \\cdot Ff$\n",
    "\n",
    "**all the identity morphisms in $C$ are mapped to\n",
    "identity morphisms in $D$**\n",
    "\n",
    "$Fid_{a} = id_{Fa}$\n",
    "\n",
    "$id_{Fa}$ is the identity at $Fa$"
   ]
  },
  {
   "cell_type": "markdown",
   "metadata": {},
   "source": [
    "_P/91 \"functors are continuous\"_\n",
    "\n",
    "functors must preserve the structure of a category\n",
    "\n",
    "**if you picture a category as a collection of objects held\n",
    "together by a network of morphisms, a functor is not\n",
    "allowed to introduce any tears into this fabric**\n",
    "\n",
    "this no-tearing constraint is similar to the\n",
    "continuity condition from calculus. In this\n",
    "sense functors are continuous\n"
   ]
  },
  {
   "cell_type": "markdown",
   "metadata": {},
   "source": [
    "_P/91 functors may do embedding or collapsing_\n",
    "\n",
    "embedding (selecting elems): \n",
    "\n",
    "in the extreme, the source can be the trivial singleton\n",
    "category - a category with one object and one morphism,\n",
    "the identity. \n",
    "\n",
    "a functor from the singleton category to any other\n",
    "category simply selects an object in that (target) category\n",
    "\n",
    "(analogous to the property of morphisms from \n",
    "singleton sets selecting elements in target sets)\n",
    "\n",
    "collapsing (black hole):\n",
    "\n",
    "the constant functor $\\Delta_{c}$. It maps every object\n",
    "in the source cat to one selected object $c$ in the\n",
    "target cat. It also maps every morphism to identity morphism\n",
    "$id_{c}$"
   ]
  },
  {
   "cell_type": "markdown",
   "metadata": {},
   "source": [
    "_P/92 endofunctors_"
   ]
  },
  {
   "cell_type": "markdown",
   "metadata": {},
   "source": [
    "> The prefix (end- or endo-) means within\n",
    "\n",
    "functors that map this category into itself\n",
    "\n",
    "example: the `Maybe` functor\n",
    "\n",
    "we often say that `fmap` **lifts a function** (over some...)\n",
    "\n",
    "**the type ctor `Maybe` together with the function `fmap`\n",
    "form a functor**"
   ]
  },
  {
   "cell_type": "markdown",
   "metadata": {},
   "source": [
    "_P/99 typeclasses_\n",
    "\n",
    "**typeclass defines a family of types that support\n",
    "a common interface**"
   ]
  },
  {
   "cell_type": "code",
   "execution_count": null,
   "metadata": {},
   "outputs": [],
   "source": []
  }
 ],
 "metadata": {
  "kernelspec": {
   "display_name": "Haskell",
   "language": "haskell",
   "name": "haskell"
  },
  "language_info": {
   "codemirror_mode": "Haskell",
   "file_extension": ".hs",
   "mimetype": "text/x-haskell",
   "name": "haskell",
   "pygments_lexer": "Haskell",
   "version": "8.8.4"
  }
 },
 "nbformat": 4,
 "nbformat_minor": 4
}
