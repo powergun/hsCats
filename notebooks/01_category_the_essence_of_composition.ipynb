{
 "cells": [
  {
   "cell_type": "markdown",
   "metadata": {},
   "source": [
    "_L/2 what is a category_\n",
    "\n",
    "a category consists of objects and arrows that go between them\n",
    "\n",
    "arrows compose, so if you have an arrow from object $A$ to object \n",
    "$B$ and another arrow from object $B$ to object $C$, then there\n",
    "must be an arrow - their composition - that goes from $A$ to $C$\n",
    "\n",
    "$g \\circ f$"
   ]
  },
  {
   "cell_type": "code",
   "execution_count": 17,
   "metadata": {},
   "outputs": [
    {
     "data": {
      "text/plain": [
       "\"a\""
      ]
     },
     "metadata": {},
     "output_type": "display_data"
    }
   ],
   "source": [
    "type A = Int\n",
    "type B = Char\n",
    "type C = String\n",
    "\n",
    "f :: A -> B\n",
    "f x = 'a'\n",
    "\n",
    "g :: B -> C\n",
    "g ch = [ch]\n",
    "\n",
    "gf = g . f\n",
    "gf 1"
   ]
  },
  {
   "cell_type": "markdown",
   "metadata": {},
   "source": [
    "_L/5 properties of composition_\n",
    "\n",
    "associative\n",
    "\n",
    "$h \\circ (g \\circ f) = (h \\circ g) \\circ f =\n",
    "h \\circ g \\circ f$\n",
    "\n",
    "for every $A \\rightarrow B$ there is a left and right identity \n",
    "\n",
    "$\\begin{align}\n",
    "f \\circ id_{A} = f\n",
    "\\\\\n",
    "id_{B} \\circ f = f\n",
    "\\end{align}$\n"
   ]
  },
  {
   "cell_type": "code",
   "execution_count": null,
   "metadata": {},
   "outputs": [],
   "source": []
  }
 ],
 "metadata": {
  "kernelspec": {
   "display_name": "Haskell",
   "language": "haskell",
   "name": "haskell"
  },
  "language_info": {
   "codemirror_mode": "Haskell",
   "file_extension": ".hs",
   "mimetype": "text/x-haskell",
   "name": "haskell",
   "pygments_lexer": "Haskell",
   "version": "8.8.4"
  }
 },
 "nbformat": 4,
 "nbformat_minor": 4
}
