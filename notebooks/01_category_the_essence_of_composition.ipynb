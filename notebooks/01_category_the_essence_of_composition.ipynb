{
 "cells": [
  {
   "cell_type": "markdown",
   "metadata": {},
   "source": [
    "_L/2 what is a category_\n",
    "\n",
    "a category consists of objects and arrows that go between them\n",
    "\n",
    "arrows compose, so if you have an arrow from object $A$ to object \n",
    "$B$ and another arrow from object $B$ to object $C$, then there\n",
    "must be an arrow - their composition - that goes from $A$ to $C$\n",
    "\n",
    "$g \\circ f$"
   ]
  },
  {
   "cell_type": "code",
   "execution_count": 33,
   "metadata": {},
   "outputs": [],
   "source": [
    "-- demo of composition\n",
    "\n",
    "f :: A -> B\n",
    "f x = undefined\n",
    "\n",
    "g :: B -> C\n",
    "g x = undefined\n",
    "\n",
    "gf = g . f\n"
   ]
  },
  {
   "cell_type": "markdown",
   "metadata": {},
   "source": [
    "_L/5 properties of composition_\n",
    "\n",
    "associative\n",
    "\n",
    "$h \\circ (g \\circ f) = (h \\circ g) \\circ f =\n",
    "h \\circ g \\circ f$\n",
    "\n",
    "for every $A$ there is an identity \n",
    "\n",
    "$\\begin{align}\n",
    "f \\circ \\textbf{id}_{A} = f\n",
    "\\\\\n",
    "\\textbf{id}_{B} \\circ f = f\n",
    "\\end{align}$\n"
   ]
  },
  {
   "cell_type": "markdown",
   "metadata": {},
   "source": [
    "_L/10 the essense of programming_\n",
    "\n",
    "category theory is extreme in the sense that it actively\n",
    "discourages us from looking inside the objects\n",
    "\n",
    "an object in category theory is an abstract nebulous entity\n",
    "\n",
    "all you can ever know about it is how it relates to other\n",
    "objects - how it connects with them using arrows\n",
    "\n",
    "**the moment you have to dig into the implementation\n",
    "of the object in order to understand how to compose it\n",
    "with other objects, you've lost the advantages of your\n",
    "programming paradigm**"
   ]
  },
  {
   "cell_type": "code",
   "execution_count": null,
   "metadata": {},
   "outputs": [],
   "source": []
  }
 ],
 "metadata": {
  "kernelspec": {
   "display_name": "Haskell",
   "language": "haskell",
   "name": "haskell"
  },
  "language_info": {
   "codemirror_mode": "Haskell",
   "file_extension": ".hs",
   "mimetype": "text/x-haskell",
   "name": "haskell",
   "pygments_lexer": "Haskell",
   "version": "8.8.4"
  }
 },
 "nbformat": 4,
 "nbformat_minor": 4
}
